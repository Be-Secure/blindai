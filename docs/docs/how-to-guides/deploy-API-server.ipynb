{
 "cells": [
  {
   "attachments": {},
   "cell_type": "markdown",
   "metadata": {
    "id": "7-tQfVM_pJcr"
   },
   "source": [
    "<div id=\"colab_button\">\n",
    "  <h1>Deploying your own BlindBox API Nitro server</h1>\n",
    "  <a target=\"_blank\" href=\"https://colab.research.google.com/github/mithril-security/blindbox/blob/main/docs/docs/getting-started/deploy-API-server.ipynb\"> \n",
    "  <img src=\"https://colab.research.google.com/assets/colab-badge.svg\" alt=\"Open In Colab\"/></a>\n",
    "</div>"
   ]
  },
  {
   "attachments": {},
   "cell_type": "markdown",
   "metadata": {},
   "source": [
    "### Hosting your own BlindBox Nitro Enclave server\n",
    "___________________________________________\n",
    "\n",
    "To deploy your own BlindBox Nitro Enclave server instance, you will need an AWS account and credits to do so.\n",
    "\n",
    "!!! warning \"Important!\"\n",
    "\n",
    "\tWhen deploying your own Amazon EC2 R6i instance, you will be charged according to your usage as detailed by AWS. You can get a detailed pricing quote [here](https://aws.amazon.com/ec2/pricing/).\n",
    "\t\n",
    "\tIf you don't want to deploy your own sever, don't worry- the Mithril-hosted server is used by default by our API!\n",
    "\n",
    "You will first need to install the [AWS CLI](https://docs.aws.amazon.com/cli/latest/userguide/cli-chap-welcome.html) and [Terraform](https://www.terraform.io/).\n",
    "\n",
    "- The AWS CLI allows us to interact with AWS cloud services via the command line.\n",
    "- Terraform is used to automate a workflow where we provision the necessary Azure resources, configure our instance and deploy our enclave application.\n",
    "\n",
    "> For alternative installation methods follow the link [here](https://docs.aws.amazon.com/cli/latest/userguide/getting-started-install.html) for AWS CLI or [here](https://developer.hashicorp.com/terraform/downloads) for Terraform."
   ]
  },
  {
   "cell_type": "code",
   "execution_count": null,
   "metadata": {},
   "outputs": [],
   "source": [
    "# install AWS CLI\n",
    "!curl \"https://awscli.amazonaws.com/awscli-exe-linux-x86_64.zip\" -o \"awscliv2.zip\"\n",
    "!unzip awscliv2.zip\n",
    "!sudo ./aws/install\n",
    "\n",
    "# check it is now installed\n",
    "!aws --version\n",
    "\n",
    "# install terraform\n",
    "!wget -O- https://apt.releases.hashicorp.com/gpg | sudo gpg --dearmor -o /usr/share/keyrings/hashicorp-archive-keyring.gpg\n",
    "!echo \"deb [signed-by=/usr/share/keyrings/hashicorp-archive-keyring.gpg] https://apt.releases.hashicorp.com $(lsb_release -cs) main\" | sudo tee /etc/apt/sources.list.d/hashicorp.list\n",
    "!sudo apt update && sudo apt install terraform\n",
    "\n",
    "# check it is now installed \n",
    "!terraform --version"
   ]
  },
  {
   "attachments": {},
   "cell_type": "markdown",
   "metadata": {},
   "source": [
    "Next, you will need to export your AWS credentials in the environment you are working with."
   ]
  },
  {
   "cell_type": "code",
   "execution_count": null,
   "metadata": {},
   "outputs": [],
   "source": [
    "!export AWS_SECRET_ACCESS_KEY= # YOUR_AWS_SECRET_ACCESS_KEY_HERE\n",
    "!export AWS_ACCESS_KEY= # YOUR_AWS_ACCESS_KEY_HERE"
   ]
  },
  {
   "attachments": {},
   "cell_type": "markdown",
   "metadata": {},
   "source": [
    "### Deployment\n",
    "\n",
    "Now we are ready to deploy our BlindBox server. Before starting, we can check our AWS instance dashboard and see we have no instances currently running\n",
    "\n",
    "![AWS empty dashboard](../../assets/no-instance-running.png)"
   ]
  },
  {
   "attachments": {},
   "cell_type": "markdown",
   "metadata": {},
   "source": [
    "We then clone the BlindBox Nitro enclave repo and deploy the server using `terraform apply`."
   ]
  },
  {
   "cell_type": "code",
   "execution_count": null,
   "metadata": {},
   "outputs": [],
   "source": [
    "!git clone \"https://github.com/mithril-security/whisper-fastapi\"\n",
    "!cd whisper-fastapi\n",
    "!terraform apply"
   ]
  },
  {
   "attachments": {},
   "cell_type": "markdown",
   "metadata": {},
   "source": [
    "Terraform will produce some output in the terminal confirming the resources that will be allocated to us. \n",
    "\n",
    "You will notice in the details of these resources that `enclave_options`: `enabled` is set to `true`.\n",
    "\n",
    "You must select `yes` to confirm the allocation of these resources.\n",
    "\n",
    "Terraform then runs our start script to deploy our BlindBox API application on the server instance.\n",
    "\n",
    "Now when we check out our instance dashboard on our AWS account, we can see our BlindBox Nitro server instance is now running:\n",
    "\n",
    "![Nitro server running on AWS](../../assets/Nitro-server-running.png)\n",
    "\n",
    ">You can now get shell access to the application's host machine on port 22. You CANNOT get shell access to the enclave for security reasons.\n",
    "\n",
    "You can send requests directly to the enclave on port 443."
   ]
  },
  {
   "cell_type": "code",
   "execution_count": null,
   "metadata": {},
   "outputs": [],
   "source": [
    "!pip install requests\n",
    "\n",
    "import requests\n",
    "\n",
    "YOUR_INSTANCE_IP = # YOUR_INSTANCE_IP_ADDRESS_HERE\n",
    "res = requests.post(\n",
    "    \"https://$YOUR_INSTANCE_IP/whisper/predict\",\n",
    "    files={\n",
    "        \"audio\": open(\"test2.wav\", \"rb\"),\n",
    "    },\n",
    ").text\n",
    "\n",
    "print(res)"
   ]
  },
  {
   "attachments": {},
   "cell_type": "markdown",
   "metadata": {},
   "source": [
    "### Using the BlindBox API with your own server instance\n",
    "\n",
    "You can use your server instance with our BlindBox API by specifying your server address when using the API.\n",
    "\n",
    "Let's take a look at how you can query the Whisper model with the BlindBox API using your Nitro API server.\n",
    "\n",
    "First, you will need to install the [blindbox](https://pypi.org/project/blindbox/) **Python library** and a [test audio file](https://www2.cs.uic.edu/~i101/SoundFiles/taunt.wav), as we did in the quick tour.\n",
    "\n",
    "> This audio file was provided by the University of Illinois at Chicago as part of their Computer Science 101 course, but you can test the API with your own audio file if you prefer!"
   ]
  },
  {
   "cell_type": "code",
   "execution_count": null,
   "metadata": {},
   "outputs": [],
   "source": [
    "# install blindbox\n",
    "!pip install blindbox\n",
    "\n",
    "# Download our example audio file and save it as `taunt.wav`\n",
    "!wget https://www2.cs.uic.edu/~i101/SoundFiles/taunt.wav -O taunt.wav"
   ]
  },
  {
   "attachments": {},
   "cell_type": "markdown",
   "metadata": {},
   "source": [
    "### Connection\n",
    "\n",
    "The next step is to connect to your server instance using the `blindbox.core` connect() method and providing it with your AWS instance's IP address.\n",
    "\n",
    "This returns to us a `BlindAiConnection` object which we will use in the next section."
   ]
  },
  {
   "cell_type": "code",
   "execution_count": null,
   "metadata": {},
   "outputs": [],
   "source": [
    "#  connect to your server instance\n",
    "YOUR_INSTANCE_IP = # YOUR_INSTANCE_IP_ADDRESS_HERE\n",
    "\n",
    "client = blindbox.core.connect(\n",
    "    addr=YOUR_INSTANCE_IP\n",
    ")"
   ]
  },
  {
   "attachments": {},
   "cell_type": "markdown",
   "metadata": {},
   "source": [
    "### Transcribing the audio file\n",
    "\n",
    "To transcribe an audio file, we call the `blindbox.api.Audio` module's `transcribe()` method. We'll provide it with:\n",
    "\n",
    "+ **the path to our audio file** as the `file` option. The Whisper model accepts a variety of audio file formats (m4a, mp3, mp4, mpeg, mpga, wav, webm).\n",
    "+ **the enclave** as the `tee` (Trusted Execution Environment) that will be used to protect our data during computation. Our server instance uses Nitro enclaves so we need to select `nitro` here.\n",
    "+ **the server instance we wish to connect to** as the `connection` option. By default, this is the Mithril-hosted Nitro server, but we will override this by providing our AWS instance IP address here."
   ]
  },
  {
   "cell_type": "code",
   "execution_count": null,
   "metadata": {},
   "outputs": [],
   "source": [
    "import blindbox\n",
    "\n",
    "transcript = blindbox.api.Audio.transcribe(\"taunt.wav\", tee=\"nitro\", connection=YOUR_INSTANCE_IP)"
   ]
  },
  {
   "attachments": {},
   "cell_type": "markdown",
   "metadata": {},
   "source": [
    "We can print out the returned `transcript` string variable to check our results are as expected."
   ]
  },
  {
   "cell_type": "code",
   "execution_count": null,
   "metadata": {},
   "outputs": [],
   "source": [
    "print(transcript)"
   ]
  },
  {
   "attachments": {},
   "cell_type": "markdown",
   "metadata": {},
   "source": [
    "Our audio file has been correctly transcribed! "
   ]
  },
  {
   "attachments": {},
   "cell_type": "markdown",
   "metadata": {},
   "source": [
    "## Conclusions\n",
    "_________________\n",
    "\n",
    "In this how-to guide, we have seen:\n",
    "- How to deploy your own BlindBox server instance for querying models within nitro enclaves.\n",
    "- Discovered how to use the BlindBox API library with your own server instance."
   ]
  }
 ],
 "metadata": {
  "colab": {
   "provenance": []
  },
  "kernelspec": {
   "display_name": "blindbox-preview-7Yaoi9am-py3.8",
   "language": "python",
   "name": "python3"
  },
  "language_info": {
   "codemirror_mode": {
    "name": "ipython",
    "version": 3
   },
   "file_extension": ".py",
   "mimetype": "text/x-python",
   "name": "python",
   "nbconvert_exporter": "python",
   "pygments_lexer": "ipython3",
   "version": "3.10.6"
  },
  "orig_nbformat": 4
 },
 "nbformat": 4,
 "nbformat_minor": 0
}
