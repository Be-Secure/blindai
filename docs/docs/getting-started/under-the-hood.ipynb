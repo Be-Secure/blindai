{
 "cells": [
  {
   "attachments": {},
   "cell_type": "markdown",
   "metadata": {
    "id": "7-tQfVM_pJcr"
   },
   "source": [
    "<div id=\"colab_button\">\n",
    "  <h1>Under the hood</h1>\n",
    "  <a target=\"_blank\" href=\"https://colab.research.google.com/github/mithril-security/blindbox/blob/main/docs/docs/getting-started/under-the-hood.ipynb\"> \n",
    "  <img src=\"https://colab.research.google.com/assets/colab-badge.svg\" alt=\"Open In Colab\"/></a>\n",
    "</div>"
   ]
  },
  {
   "attachments": {},
   "cell_type": "markdown",
   "metadata": {},
   "source": [
    "### Nitro enclaves with BlindBox API: Under the hood\n",
    "___________________________________________\n",
    "\n",
    "In the quick tour, we saw how we can use the BlindBox Whisper API to query the Whisper model with data protected during computation by a Nitro enclave environment.\n",
    "\n",
    "Let's take a look at what is going on under the hood when we use the Whisper API."
   ]
  },
  {
   "attachments": {},
   "cell_type": "markdown",
   "metadata": {},
   "source": [
    "### Mithril's BlindBox Nitro Enclave server\n",
    "___________________________________________\n",
    "\n",
    "When you use our Whisper API with Nitro enclaves, by default, you connect to the BlindBox Nitro server hosted by Mithril Security. The advantage of this is that it allows you to test our APIs for free and without spending any time on deployment.\n",
    "\n",
    "Nitro Enclaves are an AWS technology and can be deployed on Amazon EC2 instances only. Our BlindBox server for Nitro enclaves is deployed on an [Amazon EC2 R6i Instance](https://aws.amazon.com/ec2/instance-types/r6i/).\n",
    "\n",
    "If you want to deploy your own BlindBox API server for Nitro enclaves, check out our guide on how to do this [here].\n",
    "\n",
    "Let's take a look at how our Nitro server is configured:\n",
    "\n",
    "![nitro server architecture](../../assets/Nitro-server-arch.png)\n",
    "\n",
    "Queries are sent to our AWS instance on port 443 as HTTP requests. They are then redirected to our enclave via the VSOCK channel which then handles the requests in our isolated enclave environment before returning the results via the VSOCK channel."
   ]
  },
  {
   "attachments": {},
   "cell_type": "markdown",
   "metadata": {},
   "source": [
    "### Attestation\n",
    "\n",
    "When we call the `transcribe` method in the BlindBox API, the first thing we are going to do is create a `BlindBox Connection` object using the `blindbox.core.connect()` method."
   ]
  },
  {
   "cell_type": "code",
   "execution_count": null,
   "metadata": {},
   "outputs": [],
   "source": [
    "!pip install blindbox\n",
    "\n",
    "#  connect to your server instance\n",
    "BLINDAI_NITRO_SERVER = \"44.228.153.183\"\n",
    "\n",
    "client = blindbox.core.connect(\n",
    "    addr=BLINDAI_NITRO_SERVER\n",
    ")"
   ]
  },
  {
   "attachments": {},
   "cell_type": "markdown",
   "metadata": {},
   "source": [
    " All this means is that we are going to establish a connection with our server instance, verify this server instance and then keep a track of this connection for following queries.\n",
    "\n",
    "This `connect()` method is where we will perform attestation, the process of verifying the enclave application code, OS and settings, before allowing any data to be sent to the enclave. For more details about attestation, check out our Nitro attestation section in our [how we protect your data guide](./confidential_computing.md).\n",
    "\n",
    "If we were to attempt to connect with an enclave running a modified version of the BlindBox API or a misconfigured enclave, we would see the following error:\n",
    "\n",
    "![attestation error](../../assets/attestation-error.png)"
   ]
  },
  {
   "attachments": {},
   "cell_type": "markdown",
   "metadata": {},
   "source": [
    "### Querying the Whisper model\n",
    "\n",
    "when we query the Whisper model on our Mithril Nitro enclave server, under the hood we are sending a request to our verified nitro enclave using a secure TLS communication channel. We use the `.text` attribute to specify that we want to get our results back in a string format.\n",
    "\n",
    "The computation performed to get the result is performed within the Nitro enclave and the audio file and results are never accessible to anyone outside of the enclave."
   ]
  },
  {
   "cell_type": "code",
   "execution_count": null,
   "metadata": {},
   "outputs": [],
   "source": [
    "!pip install requests\n",
    "\n",
    "import requests\n",
    "\n",
    "res = requests.post(\n",
    "    \"https://nitro.mithrilsecurity.io/whisper/predict\",\n",
    "    files={\n",
    "        \"audio\": open(\"test2.wav\", \"rb\"),\n",
    "    },\n",
    ").text\n",
    "\n",
    "print(res)"
   ]
  },
  {
   "attachments": {},
   "cell_type": "markdown",
   "metadata": {},
   "source": [
    "## Conclusions\n",
    "_________________\n",
    "\n",
    "In this guide, we have:\n",
    "\n",
    "+ Seen how the Mithril **Nitro server is set-up**. \n",
    "+ Discussed how **attestation protects** your data. \n",
    "+ Discovered how **queries are performed** under the hood. "
   ]
  }
 ],
 "metadata": {
  "colab": {
   "provenance": []
  },
  "kernelspec": {
   "display_name": "blindbox-preview-7Yaoi9am-py3.8",
   "language": "python",
   "name": "python3"
  },
  "language_info": {
   "codemirror_mode": {
    "name": "ipython",
    "version": 3
   },
   "file_extension": ".py",
   "mimetype": "text/x-python",
   "name": "python",
   "nbconvert_exporter": "python",
   "pygments_lexer": "ipython3",
   "version": "3.10.6"
  },
  "orig_nbformat": 4
 },
 "nbformat": 4,
 "nbformat_minor": 0
}
